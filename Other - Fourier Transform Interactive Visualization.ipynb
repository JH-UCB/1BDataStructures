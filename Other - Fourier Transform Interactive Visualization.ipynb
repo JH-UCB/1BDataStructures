{
 "cells": [
  {
   "cell_type": "code",
   "execution_count": 1,
   "id": "738224ad",
   "metadata": {},
   "outputs": [
    {
     "data": {
      "application/vnd.jupyter.widget-view+json": {
       "model_id": "c8643431edef49f8a66c90fb3154d02a",
       "version_major": 2,
       "version_minor": 0
      },
      "text/plain": [
       "interactive(children=(FloatSlider(value=5.0, description='Frequency 1', max=20.0, min=1.0, step=1.0), FloatSli…"
      ]
     },
     "metadata": {},
     "output_type": "display_data"
    },
    {
     "data": {
      "text/plain": [
       "<function __main__.plot_signal_and_fourier_transform(freq1, amp1, phase1, freq2, amp2, phase2)>"
      ]
     },
     "execution_count": 1,
     "metadata": {},
     "output_type": "execute_result"
    }
   ],
   "source": [
    "import numpy as np\n",
    "import matplotlib.pyplot as plt\n",
    "from ipywidgets import interact, FloatSlider\n",
    "\n",
    "# Function to generate the input signal\n",
    "def input_signal(freq1, amp1, phase1, freq2, amp2, phase2, t):\n",
    "    return amp1 * np.sin(2 * np.pi * freq1 * t + phase1) + amp2 * np.sin(2 * np.pi * freq2 * t + phase2)\n",
    "\n",
    "# Function to plot the input signal, its Fourier transform, and the reconstructed signal\n",
    "def plot_signal_and_fourier_transform(freq1, amp1, phase1, freq2, amp2, phase2):\n",
    "    t = np.linspace(0, 1, 1000)\n",
    "    signal = input_signal(freq1, amp1, phase1, freq2, amp2, phase2, t)\n",
    "\n",
    "    # Compute the Fourier transform and the reconstructed signal\n",
    "    ft_signal = np.fft.fft(signal)\n",
    "    freqs = np.fft.fftfreq(len(signal), t[1] - t[0])\n",
    "    reconstructed_signal = np.fft.ifft(ft_signal)\n",
    "\n",
    "    # Plot the input signal\n",
    "    plt.figure(figsize=(12, 6))\n",
    "    plt.subplot(131)\n",
    "    plt.plot(t, signal)\n",
    "    plt.xlabel('Time')\n",
    "    plt.ylabel('Amplitude')\n",
    "    plt.title('Input Signal')\n",
    "\n",
    "    # Plot the magnitude and phase of the Fourier transform\n",
    "    plt.subplot(132)\n",
    "    plt.plot(freqs, np.abs(ft_signal))\n",
    "    plt.xlabel('Frequency')\n",
    "    plt.ylabel('Magnitude')\n",
    "    plt.title('Fourier Transform Magnitude')\n",
    "    plt.xlim(0, 50)\n",
    "\n",
    "    plt.subplot(133)\n",
    "    plt.plot(freqs, np.angle(ft_signal))\n",
    "    plt.xlabel('Frequency')\n",
    "    plt.ylabel('Phase')\n",
    "    plt.title('Fourier Transform Phase')\n",
    "    plt.xlim(0, 50)\n",
    "\n",
    "    plt.tight_layout()\n",
    "    plt.show()\n",
    "\n",
    "# Create interactive sliders to adjust the input signal parameters\n",
    "interact(plot_signal_and_fourier_transform,\n",
    "         freq1=FloatSlider(min=1, max=20, step=1, value=5, description='Frequency 1'),\n",
    "         amp1=FloatSlider(min=0, max=10, step=0.1, value=1, description='Amplitude 1'),\n",
    "         phase1=FloatSlider(min=0, max=2*np.pi, step=0.1, value=0, description='Phase 1'),\n",
    "         freq2=FloatSlider(min=1, max=20, step=1, value=10, description='Frequency 2'),\n",
    "         amp2=FloatSlider(min=0, max=10, step=0.1, value=1, description='Amplitude 2'),\n",
    "         phase2=FloatSlider(min=0, max=2*np.pi, step=0.1, value=0, description='Phase 2'))\n"
   ]
  }
 ],
 "metadata": {
  "kernelspec": {
   "display_name": "Python 3 (ipykernel)",
   "language": "python",
   "name": "python3"
  },
  "language_info": {
   "codemirror_mode": {
    "name": "ipython",
    "version": 3
   },
   "file_extension": ".py",
   "mimetype": "text/x-python",
   "name": "python",
   "nbconvert_exporter": "python",
   "pygments_lexer": "ipython3",
   "version": "3.10.9"
  }
 },
 "nbformat": 4,
 "nbformat_minor": 5
}
